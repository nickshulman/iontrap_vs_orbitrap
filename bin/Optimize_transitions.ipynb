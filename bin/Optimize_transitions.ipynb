{
 "cells": [
  {
   "cell_type": "markdown",
   "metadata": {},
   "source": [
    "## Use this notebook to optimize transitions!\n",
    "Here, we use quantitative data from Skyline to select the best transitions based on matrix-matched method (Pino et al.)"
   ]
  },
  {
   "cell_type": "markdown",
   "metadata": {},
   "source": [
    "## Set up environment"
   ]
  },
  {
   "cell_type": "code",
   "execution_count": 1,
   "metadata": {},
   "outputs": [],
   "source": [
    "import matplotlib.pyplot as plt\n",
    "from matplotlib import colors\n",
    "import numpy as np\n",
    "import math\n",
    "directory = '.\\\\'\n",
    "\n",
    "import calculate_loq as calc_loq\n",
    "\n",
    "calc_loq.setup_environment();\n",
    "min_num_transitions = np.arange(4, 4)"
   ]
  },
  {
   "cell_type": "markdown",
   "metadata": {},
   "source": [
    "## Process Orbitrap data"
   ]
  },
  {
   "cell_type": "code",
   "execution_count": 2,
   "metadata": {},
   "outputs": [],
   "source": [
    "# load the data and return a map of the data by peptide\n",
    "orig_quant_info_file_name = '../data/orig_quant_limits_OT.txt'\n",
    "\n",
    "opt_data_for_each_peptide = calc_loq.load_and_package_data('../data/transition_quant_OT_1.csv', '../data/file_conc_map_OT.csv')"
   ]
  },
  {
   "cell_type": "markdown",
   "metadata": {},
   "source": [
    "### Optimize LoQ's (this step takes a while)"
   ]
  },
  {
   "cell_type": "code",
   "execution_count": 2,
   "metadata": {
    "scrolled": true
   },
   "outputs": [
    {
     "name": "stdout",
     "output_type": "stream",
     "text": [
      "Optimizing for  4\n"
     ]
    }
   ],
   "source": [
    "min_num_transitions = [4]\n",
    "# get the optimized loq's\n",
    "for minimum_num_transitions in min_num_transitions:\n",
    "    opt_file_name = '../data/opt_quant_limits_OT{}.txt'.format(minimum_num_transitions)\n",
    "    config = calc_loq.get_default_config()\n",
    "    config['minimum_num_transitions'] = minimum_num_transitions\n",
    "    print('Optimizing for ',minimum_num_transitions)\n",
    "    optimized_information = calc_loq.optimize_transitions_for_peptides(opt_data_for_each_peptide, config)\n",
    "    calc_loq.write_quant_limit_information(opt_file_name, opt_data_for_each_peptide, optimized_information)"
   ]
  },
  {
   "cell_type": "markdown",
   "metadata": {},
   "source": [
    "### Parse original quant"
   ]
  },
  {
   "cell_type": "code",
   "execution_count": null,
   "metadata": {
    "scrolled": true,
    "pycharm": {
     "is_executing": true
    }
   },
   "outputs": [],
   "source": [
    "orig_data_for_each_peptide = calc_loq.load_and_package_data('../data/transition_quant_OT_original.csv', '../data/file_conc_map_OT.csv',)\n",
    "\n",
    "orig_information = calc_loq.calculate_quant_limit_for_peptides(orig_data_for_each_peptide, calc_loq.get_default_config())\n",
    "\n",
    "calc_loq.write_quant_limit_information(orig_quant_info_file_name, orig_data_for_each_peptide, orig_information)"
   ]
  },
  {
   "cell_type": "markdown",
   "metadata": {},
   "source": [
    "## Process LIT trap data"
   ]
  },
  {
   "cell_type": "code",
   "execution_count": null,
   "metadata": {
    "pycharm": {
     "is_executing": true
    }
   },
   "outputs": [],
   "source": [
    "# load the data and return a map of the data by peptide\n",
    "orig_quant_info_file_name = '../data/orig_quant_limits_IT.txt'\n",
    "\n",
    "opt_data_for_each_peptide = calc_loq.load_and_package_data('../data/transition_quant_IT_1.csv', '../data/file_conc_map_IT.csv')"
   ]
  },
  {
   "cell_type": "markdown",
   "metadata": {},
   "source": [
    "### Optimize LoQ's (this step takes a while)"
   ]
  },
  {
   "cell_type": "code",
   "execution_count": null,
   "metadata": {
    "scrolled": true,
    "pycharm": {
     "is_executing": true
    }
   },
   "outputs": [],
   "source": [
    "# get the optimized loq's\n",
    "for minimum_num_transitions in min_num_transitions:\n",
    "    opt_file_name = '../data/opt_quant_limits_IT{}.txt'.format(minimum_num_transitions)\n",
    "    config = calc_loq.get_default_config()\n",
    "    config['minimum_num_transitions'] = minimum_num_transitions\n",
    "    print('Optimizing for ',minimum_num_transitions)\n",
    "    optimized_information = calc_loq.optimize_transitions_for_peptides(opt_data_for_each_peptide, config)\n",
    "    calc_loq.write_quant_limit_information(opt_file_name, opt_data_for_each_peptide, optimized_information)"
   ]
  },
  {
   "cell_type": "markdown",
   "metadata": {},
   "source": [
    "### Parse original quant"
   ]
  },
  {
   "cell_type": "code",
   "execution_count": null,
   "metadata": {
    "scrolled": true,
    "pycharm": {
     "is_executing": true
    }
   },
   "outputs": [],
   "source": [
    "orig_data_for_each_peptide = calc_loq.load_and_package_data('../data/transition_quant_IT_original.csv', '../data/file_conc_map_IT.csv',)\n",
    "\n",
    "orig_information = calc_loq.calculate_quant_limit_for_peptides(orig_data_for_each_peptide, calc_loq.get_default_config())\n",
    "\n",
    "calc_loq.write_quant_limit_information(orig_quant_info_file_name, orig_data_for_each_peptide, orig_information)"
   ]
  }
 ],
 "metadata": {
  "kernelspec": {
   "display_name": "Python 3",
   "language": "python",
   "name": "python3"
  },
  "language_info": {
   "codemirror_mode": {
    "name": "ipython",
    "version": 3
   },
   "file_extension": ".py",
   "mimetype": "text/x-python",
   "name": "python",
   "nbconvert_exporter": "python",
   "pygments_lexer": "ipython3",
   "version": "3.8.2"
  }
 },
 "nbformat": 4,
 "nbformat_minor": 4
}